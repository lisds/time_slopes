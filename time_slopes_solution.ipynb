{
 "cells": [
  {
   "cell_type": "markdown",
   "id": "1e932697",
   "metadata": {},
   "source": [
    "# The Age of the Universe\n",
    "\n",
    "This exercise is from the Summer 2017 [Berkeley course\n",
    "materials](https://github.com/data-8/data8assets) with thanks.\n",
    "\n",
    "Sometimes, the primary purpose of regression analysis is to learn something about the slope or intercept of the best-fitting line.  When we use a sample of data to estimate the slope or intercept, our estimate is subject to random error, just as in the simpler case of the mean of a random sample.\n",
    "\n",
    "In this lab, we'll use regression to get an accurate estimate for the age of the universe, using pictures of exploding stars.  Our estimate will come from a sample of all exploding stars. We'll compute a confidence interval to quantify the error caused by sampling."
   ]
  },
  {
   "cell_type": "code",
   "execution_count": 1,
   "id": "32c8915f",
   "metadata": {
    "execution": {
     "iopub.execute_input": "2022-11-03T08:02:23.174415Z",
     "iopub.status.busy": "2022-11-03T08:02:23.174044Z",
     "iopub.status.idle": "2022-11-03T08:02:23.801338Z",
     "shell.execute_reply": "2022-11-03T08:02:23.800960Z"
    },
    "lines_to_next_cell": 2
   },
   "outputs": [],
   "source": [
    "# Run this cell, but please don't change it.\n",
    "\n",
    "# These lines import the Numpy and Pandas modules.\n",
    "import numpy as np\n",
    "# Make a random number generator.\n",
    "rng = np.random.default_rng()\n",
    "\n",
    "import pandas as pd\n",
    "\n",
    "# Stardard plotting setup.\n",
    "import matplotlib\n",
    "import matplotlib.pyplot as plt\n",
    "plt.style.use('fivethirtyeight')\n",
    "\n",
    "# Fancy stuff for some interactive plots\n",
    "import warnings\n",
    "# warnings.simplefilter('ignore', FutureWarning)\n",
    "from matplotlib import patches\n",
    "from ipywidgets import interact, interactive, fixed\n",
    "import ipywidgets as widgets\n",
    "\n",
    "# These lines load the tests.\n",
    "from client.api.notebook import Notebook\n",
    "ok = Notebook('time_slopes.ok')"
   ]
  },
  {
   "cell_type": "markdown",
   "id": "24d12217",
   "metadata": {},
   "source": [
    "\n",
    "## The Actual Big Bang Theory\n",
    "\n",
    "In the early 20th century, the most popular cosmological theory suggested that\n",
    "the universe had always existed at a fixed size.  Today, the Big Bang theory\n",
    "prevails: Our universe started out very small and is still expanding.\n",
    "\n",
    "A consequence of this is Hubble's Law, which says that the expansion of the\n",
    "universe creates the appearance that every celestial object that's reasonably\n",
    "far away from Earth (for example, another galaxy) is moving away from us at\n",
    "a constant speed.  If we extrapolate that motion backwards to the time when\n",
    "everything in the universe was in the same place, that time is (roughly) the\n",
    "beginning of the universe!\n",
    "\n",
    "Scientists have used this fact, along with measurements of the current\n",
    "*location* and *movement speed* of other celestial objects, to estimate when\n",
    "the universe started.\n",
    "\n",
    "The cell below simulates a universe in which our sun is the center and every\n",
    "other star is moving away from us.  Each star starts at the same place as the\n",
    "sun, then moves away from it over time.  Different stars have different\n",
    "directions *and speeds*; the arrows indicate the direction and speed of travel.\n",
    "\n",
    "Run the cell, then move the slider to see how things change over time.\n"
   ]
  },
  {
   "cell_type": "code",
   "execution_count": 2,
   "id": "05b1d98d",
   "metadata": {
    "execution": {
     "iopub.execute_input": "2022-11-03T08:02:23.803766Z",
     "iopub.status.busy": "2022-11-03T08:02:23.803541Z",
     "iopub.status.idle": "2022-11-03T08:02:23.964248Z",
     "shell.execute_reply": "2022-11-03T08:02:23.963884Z"
    }
   },
   "outputs": [],
   "source": [
    "# Just run this cell.  (The simulation is actually not\n",
    "# that complicated; it just takes a lot of code to draw\n",
    "# everything.  So you don't need to read this unless you\n",
    "# have time and are curious about more advanced plotting.)\n",
    "\n",
    "num_locations = 15\n",
    "eg_x = rng.normal(size=num_locations)\n",
    "eg_y = rng.normal(size=num_locations)\n",
    "start_of_time = -2\n",
    "\n",
    "def scatter_after_time(t, start_of_time, end_of_time, x, y, center_name,\n",
    "                       other_point_name, make_title):\n",
    "    max_location = (\n",
    "        1.1 * (end_of_time - start_of_time) * np.max(np.abs(np.append(x, y)))\n",
    "    )\n",
    "    new_x = (t - start_of_time) * x\n",
    "    new_y = (t - start_of_time) * y\n",
    "    n = len(x)\n",
    "    plt.scatter([0], [0], label=center_name, s=100, c=\"yellow\")\n",
    "    plt.scatter(new_x, new_y, label=other_point_name)\n",
    "    for i in np.arange(n):\n",
    "        plt.arrow(\n",
    "            new_x[i],\n",
    "            new_y[i],\n",
    "            x[i],\n",
    "            y[i],\n",
    "            fc='black',\n",
    "            ec='black',\n",
    "            head_width=0.025 * max_location,\n",
    "            lw=.15)\n",
    "    plt.xlim(-max_location, max_location)\n",
    "    plt.ylim(-max_location, max_location)\n",
    "    plt.gca().set_aspect('equal', adjustable='box')\n",
    "    plt.gca().set_position([0, 0, 1, 1])\n",
    "    plt.legend(bbox_to_anchor=(1.6, .7))\n",
    "    plt.title(make_title(t))\n",
    "    plt.show()\n",
    "\n",
    "interact(\n",
    "    scatter_after_time,\n",
    "    t=widgets.FloatSlider(min=start_of_time, max=5, step=.05, value=0,\n",
    "                          msg_throttle=1),\n",
    "    start_of_time=fixed(start_of_time),\n",
    "    end_of_time=fixed(5),\n",
    "    x=fixed(eg_x),\n",
    "    y=fixed(eg_y),\n",
    "    center_name=fixed(\"our sun\"),\n",
    "    other_point_name=fixed(\"other star\"),\n",
    "    make_title=fixed(lambda t: \"The world {:01g} year{} in the {}\".format(abs(t), \"\" if abs(t) == 1 else \"s\", \"past\" if t < 0 else \"future\"))\n",
    ");"
   ]
  },
  {
   "cell_type": "markdown",
   "id": "13b8a51e",
   "metadata": {},
   "source": [
    "### Question 1\n",
    "\n",
    "When did the universe start, in this example?"
   ]
  },
  {
   "cell_type": "markdown",
   "id": "89d242b3",
   "metadata": {},
   "source": [
    "*Write your answer here, replacing this text.*\n"
   ]
  },
  {
   "cell_type": "markdown",
   "id": "eb759ca2",
   "metadata": {},
   "source": [
    "### Question 2\n",
    "\n",
    "After 5 years (with the slider all the way to the right), stars with longer\n",
    "arrows are further away from the Sun.  Why?"
   ]
  },
  {
   "cell_type": "markdown",
   "id": "4c1402a5",
   "metadata": {},
   "source": [
    "*Write your answer here, replacing this text.*\n"
   ]
  },
  {
   "cell_type": "markdown",
   "id": "2a07aa3a",
   "metadata": {},
   "source": [
    "### Analogy: driving\n",
    "\n",
    "Here's an analogy to illustrate how scientists use information about stars to\n",
    "estimate the age of the universe.\n",
    "\n",
    "Suppose that at some point in the past, our friend Mei started driving in a car\n",
    "going at a steady speed of 60 miles per hour straight east.  We're still\n",
    "standing where she started."
   ]
  },
  {
   "cell_type": "code",
   "execution_count": 3,
   "id": "32144548",
   "metadata": {
    "execution": {
     "iopub.execute_input": "2022-11-03T08:02:23.967860Z",
     "iopub.status.busy": "2022-11-03T08:02:23.967733Z",
     "iopub.status.idle": "2022-11-03T08:02:24.097360Z",
     "shell.execute_reply": "2022-11-03T08:02:24.096989Z"
    }
   },
   "outputs": [],
   "source": [
    "# Run this cell to see a picture of Mei's locations over time.\n",
    "mei_x = np.array([60])\n",
    "mei_y = np.array([0])\n",
    "\n",
    "interact(\n",
    "    scatter_after_time,\n",
    "    t=widgets.FloatSlider(min=-2, max=1, step=.05, value=0, msg_throttle=1),\n",
    "    start_of_time=fixed(-2),\n",
    "    end_of_time=fixed(1),\n",
    "    x=fixed(mei_x),\n",
    "    y=fixed(mei_y),\n",
    "    center_name=fixed(\"Us\"),\n",
    "    other_point_name=fixed(\"Mei\"),\n",
    "    make_title=fixed(lambda t: \"Mei's position {:01g} hour{} in the {}\".format(abs(t), \"\" if abs(t) == 1 else \"s\", \"past\" if t < 0 else \"future\")));"
   ]
  },
  {
   "cell_type": "markdown",
   "id": "d4af441d",
   "metadata": {},
   "source": [
    "We want to know how long she's been driving, but we forgot to record the time\n",
    "when she left.  If we find out that she's 120 miles away, and she's been going\n",
    "60 miles per hour the whole time, we can infer that she left 2 hours ago.\n",
    "\n",
    "One way we can compute that number is by fitting a line to a scatter plot of\n",
    "our locations and speeds.  It turns out that the *slope* of that line is the\n",
    "amount of time that has passed.  Run the next cell to see a picture:"
   ]
  },
  {
   "cell_type": "code",
   "execution_count": 4,
   "id": "9c7b1147",
   "metadata": {
    "execution": {
     "iopub.execute_input": "2022-11-03T08:02:24.100387Z",
     "iopub.status.busy": "2022-11-03T08:02:24.100282Z",
     "iopub.status.idle": "2022-11-03T08:02:24.214275Z",
     "shell.execute_reply": "2022-11-03T08:02:24.213870Z"
    }
   },
   "outputs": [],
   "source": [
    "# Just run this cell.\n",
    "mei_speed = 60\n",
    "mei_distance = 120\n",
    "# Add origin and Mei points\n",
    "plt.plot([0, mei_speed], [0, mei_distance], 'o')\n",
    "# Draw a line between them\n",
    "plt.plot([0, mei_speed], [0, mei_distance], ':')\n",
    "# Label points\n",
    "plt.text(0, 10, 'Us', fontsize=20)\n",
    "plt.text(mei_speed + 2, mei_distance + 2, 'Mei', fontsize=20)\n",
    "plt.text(mei_speed / 2 + 2, mei_distance / 2 - 4, 'Slope = 2 hours', color='blue', fontsize=20)\n",
    "# Label axes\n",
    "plt.xlabel(\"Speed moving away from us (miles per hour)\")\n",
    "plt.ylabel(\"Current distance from us (miles)\");"
   ]
  },
  {
   "cell_type": "markdown",
   "id": "ebc14ad1",
   "metadata": {},
   "source": [
    "The slope of the line is 2 hours.  (The units are vertical-axis units divided\n",
    "by horizontal-axis units, which are $\\frac{\\texttt{miles}}{\\texttt{miles} /\n",
    "\\texttt{hour}}$, or hours.)  So that's our answer.\n",
    "\n",
    "Imagine that you don't know Mei's *exact* distance or speed, only rough\n",
    "estimates.  Then if you drew this line, you'd get a slightly bad estimate of\n",
    "the time since she left.  But if you measured the distance and speed of\n",
    "hundreds of people who left you at the same time going different speeds, and\n",
    "drew a line through them, the slope of that line would be a pretty good\n",
    "estimate of the time they left, even if the individual measurements weren't\n",
    "exactly right.\n",
    "\n",
    "The `drivers.csv` dataset contains the speeds and distances-from-start of 100\n",
    "drivers.  They all left the same starting location at the same time, driving at\n",
    "a fixed speed on a straight line away from the start.  The measurements aren't\n",
    "exact, so they don't fit exactly on a line.  We've created a scatter plot and\n",
    "drawn a line through the data."
   ]
  },
  {
   "cell_type": "code",
   "execution_count": 5,
   "id": "8710b573",
   "metadata": {
    "execution": {
     "iopub.execute_input": "2022-11-03T08:02:24.216391Z",
     "iopub.status.busy": "2022-11-03T08:02:24.216237Z",
     "iopub.status.idle": "2022-11-03T08:02:24.329517Z",
     "shell.execute_reply": "2022-11-03T08:02:24.329126Z"
    }
   },
   "outputs": [],
   "source": [
    "# Just run this cell.\n",
    "drivers = pd.read_csv('drivers.csv')\n",
    "drivers.plot.scatter(x=0, y=1)  # Plot second column against first.\n",
    "# Draw a well-fitting line through the points.\n",
    "plt.plot([5, 75], [8.3333, 125], color='black')"
   ]
  },
  {
   "cell_type": "markdown",
   "id": "8623c465",
   "metadata": {},
   "source": [
    "### Question 3\n",
    "\n",
    "By *looking at the fit line*, estimate how long ago (in hours) this cohort of\n",
    "drivers left."
   ]
  },
  {
   "cell_type": "code",
   "execution_count": 6,
   "id": "250356cf",
   "metadata": {
    "execution": {
     "iopub.execute_input": "2022-11-03T08:02:24.331727Z",
     "iopub.status.busy": "2022-11-03T08:02:24.331575Z",
     "iopub.status.idle": "2022-11-03T08:02:24.334367Z",
     "shell.execute_reply": "2022-11-03T08:02:24.334001Z"
    }
   },
   "outputs": [],
   "source": [
    "#- Fill in the start time you infer from the above line.\n",
    "driving_start_time_hours = 15/9\n",
    "driving_start_time_hours"
   ]
  },
  {
   "cell_type": "code",
   "execution_count": 7,
   "id": "33d7759e",
   "metadata": {
    "execution": {
     "iopub.execute_input": "2022-11-03T08:02:24.336303Z",
     "iopub.status.busy": "2022-11-03T08:02:24.336154Z",
     "iopub.status.idle": "2022-11-03T08:02:24.350206Z",
     "shell.execute_reply": "2022-11-03T08:02:24.349672Z"
    }
   },
   "outputs": [],
   "source": [
    "_ = ok.grade('q3')"
   ]
  },
  {
   "cell_type": "markdown",
   "id": "9d7efc6b",
   "metadata": {},
   "source": [
    "### Back to cosmology\n",
    "\n",
    "To do the same thing for the universe, we need to know the distance-from-Earth\n",
    "and speed-away-from-Earth of many celestial objects.  Using pictures taken by\n",
    "very accurate telescopes and a lot of physics, astronomers have been able to\n",
    "estimate both.  It turns out that *nearby supernovae* -- stars that have\n",
    "recently died and exploded -- are among the best sources of this data, because\n",
    "they are very easy to see.  This picture taken by the Hubble telescope shows an\n",
    "entire galaxy, with a single supernova - as bright by itself as billions of\n",
    "stars - at the bottom left.\n",
    "\n",
    "<img src=\"supernova.jpg\">\n",
    "\n",
    "Our astronomical data for today will come from the [Supernova Cosmology\n",
    "Project](http://supernova.lbl.gov/union/) at Lawrence Berkeley Lab.  The\n",
    "original dataset is\n",
    "[here](http://supernova.lbl.gov/union/figures/SCPUnion2.1_mu_vs_z.txt), with\n",
    "(brief) documentation\n",
    "[here](http://supernova.lbl.gov/union/descriptions.html#Magvsz).  Each row in\n",
    "the table corresponds to a supernova near Earth that was observed by\n",
    "astronomers.  From pictures like the one above, the astronomers deduced how far\n",
    "away each supernova was from Earth and how fast it was moving away from Earth.\n",
    "Their deductions were good, but not perfect.\n",
    "\n",
    "Run the cell below to load the data into a table called `close_novas` and make a scatter plot."
   ]
  },
  {
   "cell_type": "code",
   "execution_count": 8,
   "id": "1ba3e1fd",
   "metadata": {
    "execution": {
     "iopub.execute_input": "2022-11-03T08:02:24.354076Z",
     "iopub.status.busy": "2022-11-03T08:02:24.353926Z",
     "iopub.status.idle": "2022-11-03T08:02:24.462235Z",
     "shell.execute_reply": "2022-11-03T08:02:24.461868Z"
    }
   },
   "outputs": [],
   "source": [
    "# Just run this cell.\n",
    "close_novas = pd.read_csv(\"close_novas.csv\")\n",
    "close_novas.plot.scatter(0, 1)"
   ]
  },
  {
   "cell_type": "code",
   "execution_count": 9,
   "id": "05b5c0d8",
   "metadata": {
    "execution": {
     "iopub.execute_input": "2022-11-03T08:02:24.464300Z",
     "iopub.status.busy": "2022-11-03T08:02:24.464137Z",
     "iopub.status.idle": "2022-11-03T08:02:24.469357Z",
     "shell.execute_reply": "2022-11-03T08:02:24.469003Z"
    }
   },
   "outputs": [],
   "source": [
    "# Show the first five rows.\n",
    "close_novas.head()"
   ]
  },
  {
   "cell_type": "markdown",
   "id": "e3906405",
   "metadata": {},
   "source": [
    "### Question 4\n",
    "\n",
    "Looking this plot, make a guess at the age of the universe.\n",
    "\n",
    "**Note**: Make sure you get the units right!  In case you need to know what a\n",
    "parsec is, it's a big unit of distance, equivalent to 30.86 trillion\n",
    "kilometers.\n"
   ]
  },
  {
   "cell_type": "code",
   "execution_count": 10,
   "id": "bad355c5",
   "metadata": {
    "execution": {
     "iopub.execute_input": "2022-11-03T08:02:24.471373Z",
     "iopub.status.busy": "2022-11-03T08:02:24.471228Z",
     "iopub.status.idle": "2022-11-03T08:02:24.474314Z",
     "shell.execute_reply": "2022-11-03T08:02:24.473942Z"
    }
   },
   "outputs": [],
   "source": [
    "#- Fill this in manually by examining the line above.\n",
    "first_guess_universe_age_years = 1.5 * 10**10\n",
    "\n",
    "# This just shows your guess as a nice string, in billions of years.\n",
    "\"{:,} billion years\".format(round(first_guess_universe_age_years / 1e9, 2))"
   ]
  },
  {
   "cell_type": "code",
   "execution_count": 11,
   "id": "07cb2c19",
   "metadata": {
    "execution": {
     "iopub.execute_input": "2022-11-03T08:02:24.476249Z",
     "iopub.status.busy": "2022-11-03T08:02:24.476125Z",
     "iopub.status.idle": "2022-11-03T08:02:24.483795Z",
     "shell.execute_reply": "2022-11-03T08:02:24.483361Z"
    }
   },
   "outputs": [],
   "source": [
    "_ = ok.grade('q4')"
   ]
  },
  {
   "cell_type": "markdown",
   "id": "44399e50",
   "metadata": {},
   "source": [
    "### Fitting the line yourself\n",
    "\n",
    "We would like to be able to calculate the best slope rather than estimating by\n",
    "eye.  Recall that the least-squares regression line for our supernova data is:\n",
    "\n",
    "* the line\n",
    "* with the smallest average (over all the supernovae we observe)\n",
    "* error,\n",
    "* squared,\n",
    "* where the error is\n",
    "\n",
    "$$\\text{the supernova's actual distance from Earth} - \\text{the height of the\n",
    "line at that supernova's speed.}$$\n",
    "\n",
    "We will assume the line goes through the origin, meaning that the intercept of\n",
    "the line is 0.  This corresponds to the assumption that a speed of 0 means 0\n",
    "distance."
   ]
  },
  {
   "cell_type": "markdown",
   "id": "aedb2a4f",
   "metadata": {},
   "source": [
    "### Question 5\n",
    "\n",
    "Define a function called `errors`.  It should take two arguments:\n",
    "\n",
    "1.  a table like `close_novas` (with the same column names and meanings, but\n",
    "    not necessarily the same data)\n",
    "2.  the slope of a line (a number)\n",
    "\n",
    "It should return an array of the errors made when a line with that slope is\n",
    "used to predict distance from speed for each supernova in the given table.\n",
    "(The error is the actual distance minus the predicted distance.)"
   ]
  },
  {
   "cell_type": "code",
   "execution_count": 12,
   "id": "07945927",
   "metadata": {
    "execution": {
     "iopub.execute_input": "2022-11-03T08:02:24.487901Z",
     "iopub.status.busy": "2022-11-03T08:02:24.487754Z",
     "iopub.status.idle": "2022-11-03T08:02:24.490112Z",
     "shell.execute_reply": "2022-11-03T08:02:24.489725Z"
    },
    "for_assignment_type": "#R_CODE#student"
   },
   "outputs": [],
   "source": [
    "def errors(tbl, slope):\n",
    "    fit = tbl[\"Speed (parsecs/year)\"] * slope\n",
    "    return tbl[\"Distance (million parsecs)\"] - fit"
   ]
  },
  {
   "cell_type": "markdown",
   "id": "bbdb41f8",
   "metadata": {},
   "source": [
    "### Question 6\n",
    "\n",
    "Using `errors`, compute the errors for the line with slope `16000` on the\n",
    "`close_novas` dataset.  Name that array `example_errors`. Then make a scatter\n",
    "plot of the errors.\n",
    "\n",
    "**Hint:** To make a scatter plot of the errors, plot the error for each\n",
    "supernova in the dataset.  Put the actual speed on the horizontal axis and the\n",
    "error on the vertical axis."
   ]
  },
  {
   "cell_type": "code",
   "execution_count": 13,
   "id": "c0528794",
   "metadata": {
    "execution": {
     "iopub.execute_input": "2022-11-03T08:02:24.492019Z",
     "iopub.status.busy": "2022-11-03T08:02:24.491875Z",
     "iopub.status.idle": "2022-11-03T08:02:24.583049Z",
     "shell.execute_reply": "2022-11-03T08:02:24.582666Z"
    }
   },
   "outputs": [],
   "source": [
    "example_errors = errors(close_novas, 16000)\n",
    "plt.plot(close_novas[\"Distance (million parsecs)\"], example_errors, 'o')"
   ]
  },
  {
   "cell_type": "code",
   "execution_count": 14,
   "id": "9e9d6f95",
   "metadata": {
    "execution": {
     "iopub.execute_input": "2022-11-03T08:02:24.585032Z",
     "iopub.status.busy": "2022-11-03T08:02:24.584875Z",
     "iopub.status.idle": "2022-11-03T08:02:24.592491Z",
     "shell.execute_reply": "2022-11-03T08:02:24.592160Z"
    }
   },
   "outputs": [],
   "source": [
    "_ = ok.grade('q6')"
   ]
  },
  {
   "cell_type": "markdown",
   "id": "eae6ba4c",
   "metadata": {},
   "source": [
    "You should find that the errors are almost all negative.  That means our line\n",
    "is a little bit too steep.  Let's find a better one."
   ]
  },
  {
   "cell_type": "markdown",
   "id": "ebc42360",
   "metadata": {},
   "source": [
    "### Question 7\n",
    "\n",
    "We want to use `errors` to find the slope of the line that minimizes the\n",
    "squares of the errors.\n",
    "\n",
    "Define a new function called `sos_errors`.  It should take one argument; the\n",
    "slope of a line (a number).\n",
    "\n",
    "It should return the sum of squared errors made when a line with that slope is\n",
    "used to predict distance from speed for each supernova in `close_novas`."
   ]
  },
  {
   "cell_type": "code",
   "execution_count": 15,
   "id": "6cb5bb77",
   "metadata": {
    "execution": {
     "iopub.execute_input": "2022-11-03T08:02:24.597282Z",
     "iopub.status.busy": "2022-11-03T08:02:24.597134Z",
     "iopub.status.idle": "2022-11-03T08:02:24.600555Z",
     "shell.execute_reply": "2022-11-03T08:02:24.600159Z"
    },
    "for_assignment_type": "#R_CODE#student"
   },
   "outputs": [],
   "source": [
    "def sos_errors(slope):\n",
    "    return np.sum(errors(close_novas, slope) ** 2)\n",
    "\n",
    "# Test run of your function.\n",
    "sos_errors(16000)"
   ]
  },
  {
   "cell_type": "code",
   "execution_count": 16,
   "id": "062a22d3",
   "metadata": {
    "execution": {
     "iopub.execute_input": "2022-11-03T08:02:24.602476Z",
     "iopub.status.busy": "2022-11-03T08:02:24.602353Z",
     "iopub.status.idle": "2022-11-03T08:02:24.611693Z",
     "shell.execute_reply": "2022-11-03T08:02:24.611276Z"
    }
   },
   "outputs": [],
   "source": [
    "_ = ok.grade('q7')"
   ]
  },
  {
   "cell_type": "markdown",
   "id": "a76e40f6",
   "metadata": {},
   "source": [
    "### Question 8\n",
    "\n",
    "Use your `sos_errors` function to calculate the estimated slope of the\n",
    "least-squares regression line predicting distance from speed for the table\n",
    "`close_novas`.\n",
    "\n",
    "**Note**: If you haven't tried to use the `minimize` function yet, now is a\n",
    "great time to practice. Here's an [example from the textbook](https://lisds.github.io/textbook/mean-slopes/mean_and_slopes).  Or you can use the brute-force try-everything\n",
    "approach in the same page.\n",
    "\n",
    "When you have calculated the slope, set `new_errors` equal to the errors that\n",
    "we get calling `errors` with our new line. The following line will graph the\n",
    "corresponding residual plot with a best fit line.\n",
    "\n",
    "Make sure that the residual plot makes sense.\n",
    "\n",
    "*Hint*: what qualities should the best fit line of a residual plot have?"
   ]
  },
  {
   "cell_type": "code",
   "execution_count": 17,
   "id": "20626e8c",
   "metadata": {
    "execution": {
     "iopub.execute_input": "2022-11-03T08:02:24.615776Z",
     "iopub.status.busy": "2022-11-03T08:02:24.615520Z",
     "iopub.status.idle": "2022-11-03T08:02:24.998456Z",
     "shell.execute_reply": "2022-11-03T08:02:24.998031Z"
    }
   },
   "outputs": [],
   "source": [
    "from scipy.optimize import minimize\n",
    "best_fit_slope = minimize(sos_errors, 16000).x\n",
    "new_errors = errors(close_novas, best_fit_slope)\n",
    "\n",
    "\n",
    "# This code displays the residual plot, given your value for the\n",
    "# best_line_slope.\n",
    "error_df = pd.DataFrame()\n",
    "error_df[\"Speed (parsecs/year)\"] = close_novas['Speed (parsecs/year)'].copy()\n",
    "error_df[\"Distance errors (million parsecs)\"] = new_errors\n",
    "error_df.plot.scatter(0, 1)\n",
    "\n",
    "# This just shows your answer as a nice string, in billions of years.\n",
    "bf_slope = float(best_fit_slope)  # Make sure slope is a simple number.\n",
    "f\"Slope: {bf_slope:g} (corresponding to an estimated age of {bf_slope/1000:.4f} billion years)\""
   ]
  },
  {
   "cell_type": "code",
   "execution_count": 18,
   "id": "c12dc233",
   "metadata": {
    "execution": {
     "iopub.execute_input": "2022-11-03T08:02:25.000770Z",
     "iopub.status.busy": "2022-11-03T08:02:25.000600Z",
     "iopub.status.idle": "2022-11-03T08:02:25.008568Z",
     "shell.execute_reply": "2022-11-03T08:02:25.008206Z"
    }
   },
   "outputs": [],
   "source": [
    "_ = ok.grade('q8')"
   ]
  },
  {
   "cell_type": "markdown",
   "id": "f8212c41",
   "metadata": {},
   "source": [
    "That slope (multiplied by 1 million) is an estimate of the age of the universe.\n",
    "Nice work, data astronomer! You can compare your result to the [Planck project\n",
    "2015 results](https://arxiv.org/pdf/1502.01589.pdf), which estimated the age of\n",
    "the universe to be 13.799±0.021 billion years.\n"
   ]
  },
  {
   "cell_type": "markdown",
   "id": "4f6b2a69",
   "metadata": {},
   "source": [
    "## Done\n",
    "\n",
    "You're finished with the assignment!  Be sure to...\n",
    "\n",
    "- **run all the tests** (the next cell has a shortcut for that),\n",
    "- **Save and Checkpoint** from the \"File\" menu.\n",
    "- Finally, **restart** the kernel for this notebook, and **run all the cells**,\n",
    "  to check that the notebook still works without errors.  Use the\n",
    "  \"Kernel\" menu, and choose \"Restart and run all\".  If you find any\n",
    "  problems, go back and fix them, save the notebook, and restart / run\n",
    "  all again, before submitting.  When you do this, you make sure that\n",
    "  we, your humble markers, will be able to mark your notebook."
   ]
  },
  {
   "cell_type": "code",
   "execution_count": 19,
   "id": "328661d1",
   "metadata": {
    "execution": {
     "iopub.execute_input": "2022-11-03T08:02:25.012970Z",
     "iopub.status.busy": "2022-11-03T08:02:25.012820Z",
     "iopub.status.idle": "2022-11-03T08:02:25.043874Z",
     "shell.execute_reply": "2022-11-03T08:02:25.043578Z"
    }
   },
   "outputs": [],
   "source": [
    "# For your convenience, you can run this cell to run all the tests at once!\n",
    "import os\n",
    "_ = [ok.grade(q[:-3]) for q in os.listdir(\"tests\") if q.startswith('q')]"
   ]
  }
 ],
 "metadata": {
  "jupytext": {
   "split_at_heading": true,
   "text_representation": {
    "extension": ".Rmd",
    "format_name": "rmarkdown",
    "format_version": "1.1",
    "jupytext_version": "1.2.4"
   }
  },
  "kernelspec": {
   "display_name": "Python 3",
   "language": "python",
   "name": "python3"
  },
  "language_info": {
   "codemirror_mode": {
    "name": "ipython",
    "version": 3
   },
   "file_extension": ".py",
   "mimetype": "text/x-python",
   "name": "python",
   "nbconvert_exporter": "python",
   "pygments_lexer": "ipython3",
   "version": "3.10.7"
  },
  "widgets": {
   "application/vnd.jupyter.widget-state+json": {
    "state": {
     "024eb6db160146e3acc2e3d6c007e227": {
      "model_module": "@jupyter-widgets/base",
      "model_module_version": "2.0.0",
      "model_name": "LayoutModel",
      "state": {
       "_model_module": "@jupyter-widgets/base",
       "_model_module_version": "2.0.0",
       "_model_name": "LayoutModel",
       "_view_count": null,
       "_view_module": "@jupyter-widgets/base",
       "_view_module_version": "2.0.0",
       "_view_name": "LayoutView",
       "align_content": null,
       "align_items": null,
       "align_self": null,
       "border_bottom": null,
       "border_left": null,
       "border_right": null,
       "border_top": null,
       "bottom": null,
       "display": null,
       "flex": null,
       "flex_flow": null,
       "grid_area": null,
       "grid_auto_columns": null,
       "grid_auto_flow": null,
       "grid_auto_rows": null,
       "grid_column": null,
       "grid_gap": null,
       "grid_row": null,
       "grid_template_areas": null,
       "grid_template_columns": null,
       "grid_template_rows": null,
       "height": null,
       "justify_content": null,
       "justify_items": null,
       "left": null,
       "margin": null,
       "max_height": null,
       "max_width": null,
       "min_height": null,
       "min_width": null,
       "object_fit": null,
       "object_position": null,
       "order": null,
       "overflow": null,
       "padding": null,
       "right": null,
       "top": null,
       "visibility": null,
       "width": null
      }
     },
     "1260f9453e3a426bae4e4ba5e27066df": {
      "model_module": "@jupyter-widgets/output",
      "model_module_version": "1.0.0",
      "model_name": "OutputModel",
      "state": {
       "_dom_classes": [],
       "_model_module": "@jupyter-widgets/output",
       "_model_module_version": "1.0.0",
       "_model_name": "OutputModel",
       "_view_count": null,
       "_view_module": "@jupyter-widgets/output",
       "_view_module_version": "1.0.0",
       "_view_name": "OutputView",
       "layout": "IPY_MODEL_22e94704ab044c70a7b28ff5355f0434",
       "msg_id": "",
       "outputs": [
        {
         "data": {
          "image/png": "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\n",
          "text/plain": "<Figure size 640x480 with 1 Axes>"
         },
         "metadata": {},
         "output_type": "display_data"
        }
       ],
       "tabbable": null,
       "tooltip": null
      }
     },
     "1a026ab6a6a940e494569b67afaca5c9": {
      "model_module": "@jupyter-widgets/controls",
      "model_module_version": "2.0.0",
      "model_name": "VBoxModel",
      "state": {
       "_dom_classes": [
        "widget-interact"
       ],
       "_model_module": "@jupyter-widgets/controls",
       "_model_module_version": "2.0.0",
       "_model_name": "VBoxModel",
       "_view_count": null,
       "_view_module": "@jupyter-widgets/controls",
       "_view_module_version": "2.0.0",
       "_view_name": "VBoxView",
       "box_style": "",
       "children": [
        "IPY_MODEL_abcabf24f02b45d69509c60fc6495d69",
        "IPY_MODEL_cbbf2a84657b484ba96062fcd3c9baa1"
       ],
       "layout": "IPY_MODEL_4f2590c39d08473d97cbab963c7c86b5",
       "tabbable": null,
       "tooltip": null
      }
     },
     "22e94704ab044c70a7b28ff5355f0434": {
      "model_module": "@jupyter-widgets/base",
      "model_module_version": "2.0.0",
      "model_name": "LayoutModel",
      "state": {
       "_model_module": "@jupyter-widgets/base",
       "_model_module_version": "2.0.0",
       "_model_name": "LayoutModel",
       "_view_count": null,
       "_view_module": "@jupyter-widgets/base",
       "_view_module_version": "2.0.0",
       "_view_name": "LayoutView",
       "align_content": null,
       "align_items": null,
       "align_self": null,
       "border_bottom": null,
       "border_left": null,
       "border_right": null,
       "border_top": null,
       "bottom": null,
       "display": null,
       "flex": null,
       "flex_flow": null,
       "grid_area": null,
       "grid_auto_columns": null,
       "grid_auto_flow": null,
       "grid_auto_rows": null,
       "grid_column": null,
       "grid_gap": null,
       "grid_row": null,
       "grid_template_areas": null,
       "grid_template_columns": null,
       "grid_template_rows": null,
       "height": null,
       "justify_content": null,
       "justify_items": null,
       "left": null,
       "margin": null,
       "max_height": null,
       "max_width": null,
       "min_height": null,
       "min_width": null,
       "object_fit": null,
       "object_position": null,
       "order": null,
       "overflow": null,
       "padding": null,
       "right": null,
       "top": null,
       "visibility": null,
       "width": null
      }
     },
     "4f2590c39d08473d97cbab963c7c86b5": {
      "model_module": "@jupyter-widgets/base",
      "model_module_version": "2.0.0",
      "model_name": "LayoutModel",
      "state": {
       "_model_module": "@jupyter-widgets/base",
       "_model_module_version": "2.0.0",
       "_model_name": "LayoutModel",
       "_view_count": null,
       "_view_module": "@jupyter-widgets/base",
       "_view_module_version": "2.0.0",
       "_view_name": "LayoutView",
       "align_content": null,
       "align_items": null,
       "align_self": null,
       "border_bottom": null,
       "border_left": null,
       "border_right": null,
       "border_top": null,
       "bottom": null,
       "display": null,
       "flex": null,
       "flex_flow": null,
       "grid_area": null,
       "grid_auto_columns": null,
       "grid_auto_flow": null,
       "grid_auto_rows": null,
       "grid_column": null,
       "grid_gap": null,
       "grid_row": null,
       "grid_template_areas": null,
       "grid_template_columns": null,
       "grid_template_rows": null,
       "height": null,
       "justify_content": null,
       "justify_items": null,
       "left": null,
       "margin": null,
       "max_height": null,
       "max_width": null,
       "min_height": null,
       "min_width": null,
       "object_fit": null,
       "object_position": null,
       "order": null,
       "overflow": null,
       "padding": null,
       "right": null,
       "top": null,
       "visibility": null,
       "width": null
      }
     },
     "608ffee7450c4db18081cd83b045a110": {
      "model_module": "@jupyter-widgets/base",
      "model_module_version": "2.0.0",
      "model_name": "LayoutModel",
      "state": {
       "_model_module": "@jupyter-widgets/base",
       "_model_module_version": "2.0.0",
       "_model_name": "LayoutModel",
       "_view_count": null,
       "_view_module": "@jupyter-widgets/base",
       "_view_module_version": "2.0.0",
       "_view_name": "LayoutView",
       "align_content": null,
       "align_items": null,
       "align_self": null,
       "border_bottom": null,
       "border_left": null,
       "border_right": null,
       "border_top": null,
       "bottom": null,
       "display": null,
       "flex": null,
       "flex_flow": null,
       "grid_area": null,
       "grid_auto_columns": null,
       "grid_auto_flow": null,
       "grid_auto_rows": null,
       "grid_column": null,
       "grid_gap": null,
       "grid_row": null,
       "grid_template_areas": null,
       "grid_template_columns": null,
       "grid_template_rows": null,
       "height": null,
       "justify_content": null,
       "justify_items": null,
       "left": null,
       "margin": null,
       "max_height": null,
       "max_width": null,
       "min_height": null,
       "min_width": null,
       "object_fit": null,
       "object_position": null,
       "order": null,
       "overflow": null,
       "padding": null,
       "right": null,
       "top": null,
       "visibility": null,
       "width": null
      }
     },
     "63e7ab2db84d4a77b63c99bc4cca23be": {
      "model_module": "@jupyter-widgets/base",
      "model_module_version": "2.0.0",
      "model_name": "LayoutModel",
      "state": {
       "_model_module": "@jupyter-widgets/base",
       "_model_module_version": "2.0.0",
       "_model_name": "LayoutModel",
       "_view_count": null,
       "_view_module": "@jupyter-widgets/base",
       "_view_module_version": "2.0.0",
       "_view_name": "LayoutView",
       "align_content": null,
       "align_items": null,
       "align_self": null,
       "border_bottom": null,
       "border_left": null,
       "border_right": null,
       "border_top": null,
       "bottom": null,
       "display": null,
       "flex": null,
       "flex_flow": null,
       "grid_area": null,
       "grid_auto_columns": null,
       "grid_auto_flow": null,
       "grid_auto_rows": null,
       "grid_column": null,
       "grid_gap": null,
       "grid_row": null,
       "grid_template_areas": null,
       "grid_template_columns": null,
       "grid_template_rows": null,
       "height": null,
       "justify_content": null,
       "justify_items": null,
       "left": null,
       "margin": null,
       "max_height": null,
       "max_width": null,
       "min_height": null,
       "min_width": null,
       "object_fit": null,
       "object_position": null,
       "order": null,
       "overflow": null,
       "padding": null,
       "right": null,
       "top": null,
       "visibility": null,
       "width": null
      }
     },
     "6cd6121924524cb395f910adb57bc90f": {
      "model_module": "@jupyter-widgets/controls",
      "model_module_version": "2.0.0",
      "model_name": "SliderStyleModel",
      "state": {
       "_model_module": "@jupyter-widgets/controls",
       "_model_module_version": "2.0.0",
       "_model_name": "SliderStyleModel",
       "_view_count": null,
       "_view_module": "@jupyter-widgets/base",
       "_view_module_version": "2.0.0",
       "_view_name": "StyleView",
       "description_width": "",
       "handle_color": null
      }
     },
     "7ca55c0dbea64f1bb7c564004767f0eb": {
      "model_module": "@jupyter-widgets/controls",
      "model_module_version": "2.0.0",
      "model_name": "SliderStyleModel",
      "state": {
       "_model_module": "@jupyter-widgets/controls",
       "_model_module_version": "2.0.0",
       "_model_name": "SliderStyleModel",
       "_view_count": null,
       "_view_module": "@jupyter-widgets/base",
       "_view_module_version": "2.0.0",
       "_view_name": "StyleView",
       "description_width": "",
       "handle_color": null
      }
     },
     "9a42704d73454119901ae0230ce72b35": {
      "model_module": "@jupyter-widgets/controls",
      "model_module_version": "2.0.0",
      "model_name": "VBoxModel",
      "state": {
       "_dom_classes": [
        "widget-interact"
       ],
       "_model_module": "@jupyter-widgets/controls",
       "_model_module_version": "2.0.0",
       "_model_name": "VBoxModel",
       "_view_count": null,
       "_view_module": "@jupyter-widgets/controls",
       "_view_module_version": "2.0.0",
       "_view_name": "VBoxView",
       "box_style": "",
       "children": [
        "IPY_MODEL_c14b1d8cd78744d08ab84cdd6a4ad65d",
        "IPY_MODEL_1260f9453e3a426bae4e4ba5e27066df"
       ],
       "layout": "IPY_MODEL_608ffee7450c4db18081cd83b045a110",
       "tabbable": null,
       "tooltip": null
      }
     },
     "abcabf24f02b45d69509c60fc6495d69": {
      "model_module": "@jupyter-widgets/controls",
      "model_module_version": "2.0.0",
      "model_name": "FloatSliderModel",
      "state": {
       "_dom_classes": [],
       "_model_module": "@jupyter-widgets/controls",
       "_model_module_version": "2.0.0",
       "_model_name": "FloatSliderModel",
       "_view_count": null,
       "_view_module": "@jupyter-widgets/controls",
       "_view_module_version": "2.0.0",
       "_view_name": "FloatSliderView",
       "behavior": "drag-tap",
       "continuous_update": true,
       "description": "t",
       "description_allow_html": false,
       "disabled": false,
       "layout": "IPY_MODEL_024eb6db160146e3acc2e3d6c007e227",
       "max": 5.0,
       "min": -2.0,
       "orientation": "horizontal",
       "readout": true,
       "readout_format": ".2f",
       "step": 0.05,
       "style": "IPY_MODEL_6cd6121924524cb395f910adb57bc90f",
       "tabbable": null,
       "tooltip": null,
       "value": 0.0
      }
     },
     "b63905b9edf7431590cbf36e29a64501": {
      "model_module": "@jupyter-widgets/base",
      "model_module_version": "2.0.0",
      "model_name": "LayoutModel",
      "state": {
       "_model_module": "@jupyter-widgets/base",
       "_model_module_version": "2.0.0",
       "_model_name": "LayoutModel",
       "_view_count": null,
       "_view_module": "@jupyter-widgets/base",
       "_view_module_version": "2.0.0",
       "_view_name": "LayoutView",
       "align_content": null,
       "align_items": null,
       "align_self": null,
       "border_bottom": null,
       "border_left": null,
       "border_right": null,
       "border_top": null,
       "bottom": null,
       "display": null,
       "flex": null,
       "flex_flow": null,
       "grid_area": null,
       "grid_auto_columns": null,
       "grid_auto_flow": null,
       "grid_auto_rows": null,
       "grid_column": null,
       "grid_gap": null,
       "grid_row": null,
       "grid_template_areas": null,
       "grid_template_columns": null,
       "grid_template_rows": null,
       "height": null,
       "justify_content": null,
       "justify_items": null,
       "left": null,
       "margin": null,
       "max_height": null,
       "max_width": null,
       "min_height": null,
       "min_width": null,
       "object_fit": null,
       "object_position": null,
       "order": null,
       "overflow": null,
       "padding": null,
       "right": null,
       "top": null,
       "visibility": null,
       "width": null
      }
     },
     "c14b1d8cd78744d08ab84cdd6a4ad65d": {
      "model_module": "@jupyter-widgets/controls",
      "model_module_version": "2.0.0",
      "model_name": "FloatSliderModel",
      "state": {
       "_dom_classes": [],
       "_model_module": "@jupyter-widgets/controls",
       "_model_module_version": "2.0.0",
       "_model_name": "FloatSliderModel",
       "_view_count": null,
       "_view_module": "@jupyter-widgets/controls",
       "_view_module_version": "2.0.0",
       "_view_name": "FloatSliderView",
       "behavior": "drag-tap",
       "continuous_update": true,
       "description": "t",
       "description_allow_html": false,
       "disabled": false,
       "layout": "IPY_MODEL_63e7ab2db84d4a77b63c99bc4cca23be",
       "max": 1.0,
       "min": -2.0,
       "orientation": "horizontal",
       "readout": true,
       "readout_format": ".2f",
       "step": 0.05,
       "style": "IPY_MODEL_7ca55c0dbea64f1bb7c564004767f0eb",
       "tabbable": null,
       "tooltip": null,
       "value": 0.0
      }
     },
     "cbbf2a84657b484ba96062fcd3c9baa1": {
      "model_module": "@jupyter-widgets/output",
      "model_module_version": "1.0.0",
      "model_name": "OutputModel",
      "state": {
       "_dom_classes": [],
       "_model_module": "@jupyter-widgets/output",
       "_model_module_version": "1.0.0",
       "_model_name": "OutputModel",
       "_view_count": null,
       "_view_module": "@jupyter-widgets/output",
       "_view_module_version": "1.0.0",
       "_view_name": "OutputView",
       "layout": "IPY_MODEL_b63905b9edf7431590cbf36e29a64501",
       "msg_id": "",
       "outputs": [
        {
         "data": {
          "image/png": "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\n",
          "text/plain": "<Figure size 640x480 with 1 Axes>"
         },
         "metadata": {},
         "output_type": "display_data"
        }
       ],
       "tabbable": null,
       "tooltip": null
      }
     }
    },
    "version_major": 2,
    "version_minor": 0
   }
  }
 },
 "nbformat": 4,
 "nbformat_minor": 5
}
